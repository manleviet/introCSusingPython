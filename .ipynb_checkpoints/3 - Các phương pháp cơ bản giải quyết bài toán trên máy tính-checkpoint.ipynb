{
 "cells": [
  {
   "cell_type": "markdown",
   "metadata": {},
   "source": [
    "# Các phương pháp cơ bản giải quyết bài toán trên máy tính\n",
    "\n",
    "## Ôn tập\n",
    "\n",
    "### Ôn tập về vòng lặp"
   ]
  },
  {
   "cell_type": "code",
   "execution_count": 1,
   "metadata": {},
   "outputs": [
    {
     "name": "stdout",
     "output_type": "stream",
     "text": [
      "Enter an integer:25\n",
      "Square root of 25 is 5\n"
     ]
    }
   ],
   "source": [
    "ans = 0\n",
    "neg_flag = False\n",
    "x = int(input('Enter an integer:'))\n",
    "if x < 0:\n",
    "    neg_flag = True\n",
    "while ans**2 < x:\n",
    "    ans = ans + 1\n",
    "if ans**2 == x:\n",
    "    print('Square root of', x, 'is', ans)\n",
    "else:\n",
    "    print(x, 'is not a perfect square')\n",
    "    if neg_flag:\n",
    "        print('Just checking... did you mean', -x, '?')"
   ]
  },
  {
   "cell_type": "markdown",
   "metadata": {},
   "source": [
    "### Ôn tập về chuỗi"
   ]
  },
  {
   "cell_type": "code",
   "execution_count": 2,
   "metadata": {},
   "outputs": [
    {
     "data": {
      "text/plain": [
       "3"
      ]
     },
     "execution_count": 2,
     "metadata": {},
     "output_type": "execute_result"
    }
   ],
   "source": [
    "s = \"abc\"\n",
    "len(s)"
   ]
  },
  {
   "cell_type": "code",
   "execution_count": 3,
   "metadata": {},
   "outputs": [
    {
     "data": {
      "text/plain": [
       "'a'"
      ]
     },
     "execution_count": 3,
     "metadata": {},
     "output_type": "execute_result"
    }
   ],
   "source": [
    "s = \"abc\"\n",
    "s[0]"
   ]
  },
  {
   "cell_type": "code",
   "execution_count": 4,
   "metadata": {},
   "outputs": [
    {
     "data": {
      "text/plain": [
       "'b'"
      ]
     },
     "execution_count": 4,
     "metadata": {},
     "output_type": "execute_result"
    }
   ],
   "source": [
    "s = \"abc\"\n",
    "s[1]"
   ]
  },
  {
   "cell_type": "code",
   "execution_count": 5,
   "metadata": {},
   "outputs": [
    {
     "ename": "IndexError",
     "evalue": "string index out of range",
     "output_type": "error",
     "traceback": [
      "\u001b[0;31m---------------------------------------------------------------------------\u001b[0m",
      "\u001b[0;31mIndexError\u001b[0m                                Traceback (most recent call last)",
      "\u001b[0;32m<ipython-input-5-2f09fd169b91>\u001b[0m in \u001b[0;36m<module>\u001b[0;34m()\u001b[0m\n\u001b[1;32m      1\u001b[0m \u001b[0ms\u001b[0m \u001b[0;34m=\u001b[0m \u001b[0;34m\"abc\"\u001b[0m\u001b[0;34m\u001b[0m\u001b[0m\n\u001b[0;32m----> 2\u001b[0;31m \u001b[0ms\u001b[0m\u001b[0;34m[\u001b[0m\u001b[0;36m3\u001b[0m\u001b[0;34m]\u001b[0m\u001b[0;34m\u001b[0m\u001b[0m\n\u001b[0m",
      "\u001b[0;31mIndexError\u001b[0m: string index out of range"
     ]
    }
   ],
   "source": [
    "s = \"abc\"\n",
    "s[3]"
   ]
  },
  {
   "cell_type": "code",
   "execution_count": 6,
   "metadata": {},
   "outputs": [
    {
     "data": {
      "text/plain": [
       "'hgfedcba'"
      ]
     },
     "execution_count": 6,
     "metadata": {},
     "output_type": "execute_result"
    }
   ],
   "source": [
    "s = 'abcdefgh'\n",
    "s[::-1]"
   ]
  },
  {
   "cell_type": "code",
   "execution_count": 7,
   "metadata": {},
   "outputs": [
    {
     "data": {
      "text/plain": [
       "'def'"
      ]
     },
     "execution_count": 7,
     "metadata": {},
     "output_type": "execute_result"
    }
   ],
   "source": [
    "s = 'abcdefgh'\n",
    "s[3:6]"
   ]
  },
  {
   "cell_type": "code",
   "execution_count": 8,
   "metadata": {},
   "outputs": [
    {
     "data": {
      "text/plain": [
       "'h'"
      ]
     },
     "execution_count": 8,
     "metadata": {},
     "output_type": "execute_result"
    }
   ],
   "source": [
    "s = 'abcdefgh'\n",
    "s[-1]"
   ]
  },
  {
   "cell_type": "code",
   "execution_count": 9,
   "metadata": {},
   "outputs": [
    {
     "ename": "TypeError",
     "evalue": "'str' object does not support item assignment",
     "output_type": "error",
     "traceback": [
      "\u001b[0;31m---------------------------------------------------------------------------\u001b[0m",
      "\u001b[0;31mTypeError\u001b[0m                                 Traceback (most recent call last)",
      "\u001b[0;32m<ipython-input-9-6c165964bf1c>\u001b[0m in \u001b[0;36m<module>\u001b[0;34m()\u001b[0m\n\u001b[1;32m      1\u001b[0m \u001b[0ms\u001b[0m \u001b[0;34m=\u001b[0m \u001b[0;34m\"hello\"\u001b[0m\u001b[0;34m\u001b[0m\u001b[0m\n\u001b[0;32m----> 2\u001b[0;31m \u001b[0ms\u001b[0m\u001b[0;34m[\u001b[0m\u001b[0;36m0\u001b[0m\u001b[0;34m]\u001b[0m \u001b[0;34m=\u001b[0m \u001b[0;34m'y'\u001b[0m\u001b[0;34m\u001b[0m\u001b[0m\n\u001b[0m",
      "\u001b[0;31mTypeError\u001b[0m: 'str' object does not support item assignment"
     ]
    }
   ],
   "source": [
    "s = \"hello\"\n",
    "s[0] = 'y'"
   ]
  },
  {
   "cell_type": "code",
   "execution_count": 10,
   "metadata": {},
   "outputs": [
    {
     "data": {
      "text/plain": [
       "'yello'"
      ]
     },
     "execution_count": 10,
     "metadata": {},
     "output_type": "execute_result"
    }
   ],
   "source": [
    "s = \"hello\"\n",
    "s = 'y' + s[1:len(s)]\n",
    "s"
   ]
  },
  {
   "cell_type": "markdown",
   "metadata": {},
   "source": [
    "### Chuỗi và vòng lặp"
   ]
  },
  {
   "cell_type": "code",
   "execution_count": 11,
   "metadata": {},
   "outputs": [
    {
     "name": "stdout",
     "output_type": "stream",
     "text": [
      "There is an i or u\n",
      "There is an i or u\n"
     ]
    }
   ],
   "source": [
    "s = \"abcdefgh\"\n",
    "for index in range(len(s)):\n",
    "    if s[index] == 'a' or s[index] == 'e':\n",
    "        print('There is an i or u')"
   ]
  },
  {
   "cell_type": "code",
   "execution_count": 12,
   "metadata": {},
   "outputs": [
    {
     "name": "stdout",
     "output_type": "stream",
     "text": [
      "There is an i or u\n",
      "There is an i or u\n"
     ]
    }
   ],
   "source": [
    "s = \"abcdefgh\"\n",
    "for char in s:\n",
    "    if char == 'a' or char == 'e':\n",
    "        print('There is an i or u')"
   ]
  },
  {
   "cell_type": "code",
   "execution_count": 13,
   "metadata": {},
   "outputs": [
    {
     "name": "stdout",
     "output_type": "stream",
     "text": [
      "I will cheer for you! Enter a word:HCE\n",
      "Enthusiasm level (1-10):10\n",
      "Give me an H! H\n",
      "Give me a C! C\n",
      "Give me an E! E\n",
      "What does that spell?\n",
      "HCE !!!\n",
      "HCE !!!\n",
      "HCE !!!\n",
      "HCE !!!\n",
      "HCE !!!\n",
      "HCE !!!\n",
      "HCE !!!\n",
      "HCE !!!\n",
      "HCE !!!\n",
      "HCE !!!\n"
     ]
    }
   ],
   "source": [
    "an_letters = 'aefhilmnorsxAEFHILMNORSX'\n",
    "word = input('I will cheer for you! Enter a word:')\n",
    "times = int(input('Enthusiasm level (1-10):'))\n",
    "i = 0\n",
    "\n",
    "while i < len(word):\n",
    "    char = word[i]\n",
    "    if char in an_letters:\n",
    "        print('Give me an ' + char + \"! \" + char)\n",
    "    else:\n",
    "        print('Give me a ' + char + '! ' + char)\n",
    "    i += 1\n",
    "print('What does that spell?')\n",
    "for i in range(times):\n",
    "    print(word, \"!!!\")"
   ]
  },
  {
   "cell_type": "markdown",
   "metadata": {},
   "source": [
    "### Bài tập\n",
    "\n",
    "Viết lại chương trình ngay trên bằng cách thay vòng lặp while bằng vòng lặp for."
   ]
  },
  {
   "cell_type": "markdown",
   "metadata": {},
   "source": [
    "## Phương pháp xấp xỉ (Approximate Solution)"
   ]
  },
  {
   "cell_type": "code",
   "execution_count": 15,
   "metadata": {},
   "outputs": [
    {
     "name": "stdout",
     "output_type": "stream",
     "text": [
      "num_guesses = 29997\n",
      "2.999700000001906 is close to the cube root of 27\n"
     ]
    }
   ],
   "source": [
    "cube = 27\n",
    "epsilon = 0.01\n",
    "guess = 0.0\n",
    "increment = 0.0001\n",
    "num_guesses = 0\n",
    "while abs(guess**3 - cube) >= epsilon: # and guess <= cube:\n",
    "    guess += increment\n",
    "    num_guesses += 1\n",
    "print('num_guesses =', num_guesses)\n",
    "if abs(guess**3 - cube) >= epsilon:\n",
    "    print('Failed on cube root of', cube)\n",
    "else:\n",
    "    print(guess, 'is close to the cube root of', cube)"
   ]
  },
  {
   "cell_type": "markdown",
   "metadata": {},
   "source": [
    "## Tìm kiếm nhị phân (Bisection search)"
   ]
  },
  {
   "cell_type": "code",
   "execution_count": 16,
   "metadata": {},
   "outputs": [
    {
     "name": "stdout",
     "output_type": "stream",
     "text": [
      "low = 12.5 high = 25 ans = 12.5\n",
      "low = 6.25 high = 12.5 ans = 6.25\n",
      "low = 3.125 high = 6.25 ans = 3.125\n",
      "low = 4.6875 high = 6.25 ans = 4.6875\n",
      "low = 5.46875 high = 6.25 ans = 5.46875\n",
      "low = 5.078125 high = 5.46875 ans = 5.078125\n",
      "low = 4.8828125 high = 5.078125 ans = 4.8828125\n",
      "low = 4.98046875 high = 5.078125 ans = 4.98046875\n",
      "low = 5.029296875 high = 5.078125 ans = 5.029296875\n",
      "low = 5.0048828125 high = 5.029296875 ans = 5.0048828125\n",
      "low = 4.99267578125 high = 5.0048828125 ans = 4.99267578125\n",
      "low = 4.998779296875 high = 5.0048828125 ans = 4.998779296875\n",
      "low = 5.0018310546875 high = 5.0048828125 ans = 5.0018310546875\n",
      "numGuesses = 13\n",
      "5.00030517578125 is close to square root of 25\n"
     ]
    }
   ],
   "source": [
    "x = 25\n",
    "epsilon = 0.01\n",
    "numGuesses = 0\n",
    "low = 0.0\n",
    "high = x\n",
    "ans = (high + low) / 2.0\n",
    "\n",
    "while abs(ans**2 - x) >= epsilon:\n",
    "    print('low = ' + str(ans) + ' high = ' + str(high) + ' ans = ' + str(ans))\n",
    "    numGuesses += 1\n",
    "    if ans**2 < x:\n",
    "        low = ans\n",
    "    else:\n",
    "        high = ans\n",
    "    ans = (high + low) / 2.0\n",
    "print('numGuesses = ' + str(numGuesses))\n",
    "print(str(ans) + ' is close to square root of ' + str(x))"
   ]
  },
  {
   "cell_type": "markdown",
   "metadata": {},
   "source": [
    "### Bài tập\n",
    "\n",
    "Với x = -25, đoạn code trên có hoạt động hay không? Hãy sửa code trên để nó có thể làm việc với cả số âm và dương."
   ]
  },
  {
   "cell_type": "code",
   "execution_count": 17,
   "metadata": {},
   "outputs": [
    {
     "name": "stdout",
     "output_type": "stream",
     "text": [
      "num_guesses = 15\n",
      "3.779571533203125 is close to the cube root of 54\n"
     ]
    }
   ],
   "source": [
    "cube = 54\n",
    "epsilon = 0.01\n",
    "num_guesses = 0\n",
    "low = 0\n",
    "high = cube\n",
    "guess = (high + low)/2.0\n",
    "while abs(guess**3 - cube) >= epsilon:\n",
    "    if guess**3 < cube :\n",
    "        low = guess\n",
    "    else:\n",
    "        high = guess\n",
    "    guess = (high + low)/2.0\n",
    "    num_guesses += 1\n",
    "print('num_guesses =', num_guesses)\n",
    "print(guess, 'is close to the cube root of', cube)"
   ]
  },
  {
   "cell_type": "markdown",
   "metadata": {},
   "source": [
    "## Số thực và phân số"
   ]
  },
  {
   "cell_type": "code",
   "execution_count": 21,
   "metadata": {},
   "outputs": [
    {
     "name": "stdout",
     "output_type": "stream",
     "text": [
      "1010 is a binary of 10\n"
     ]
    }
   ],
   "source": [
    "start_num = 10\n",
    "num = start_num\n",
    "if num < 0:\n",
    "    isNeg = True\n",
    "    num = abs(num)\n",
    "else:\n",
    "    isNeg = False\n",
    "result = ''\n",
    "if num == 0:\n",
    "    result = '0'\n",
    "while num > 0:\n",
    "    result = str(num % 2) + result\n",
    "    num = num // 2\n",
    "if isNeg:\n",
    "    result = '-' + result\n",
    "print(result, 'is a binary of', start_num)"
   ]
  },
  {
   "cell_type": "markdown",
   "metadata": {},
   "source": [
    "### Bài tập\n",
    "\n",
    "Số thập phân tương ứng với 10011 là số nào?"
   ]
  },
  {
   "cell_type": "code",
   "execution_count": 22,
   "metadata": {},
   "outputs": [
    {
     "name": "stdout",
     "output_type": "stream",
     "text": [
      "Enter a decimal number between 0 and 1: 0.375\n",
      "Remainder = 0.375\n",
      "Remainder = 0.75\n",
      "Remainder = 0.5\n",
      "The binary representation of the decimal 0.375 is .011\n"
     ]
    }
   ],
   "source": [
    "x = float(input('Enter a decimal number between 0 and 1: '))\n",
    "\n",
    "p = 0\n",
    "while ((2**p)*x)%1 != 0:\n",
    "    print('Remainder = ' + str((2**p)*x - int((2**p)*x)))\n",
    "    p += 1\n",
    "\n",
    "num = int(x*(2**p))\n",
    "\n",
    "result = ''\n",
    "if num == 0:\n",
    "    result = '0'\n",
    "while num > 0:\n",
    "    result = str(num%2) + result\n",
    "    num = num//2\n",
    "\n",
    "for i in range(p - len(result)):\n",
    "    result = '0' + result\n",
    "\n",
    "result = result[0:-p] + '.' + result[-p:]\n",
    "print('The binary representation of the decimal ' + str(x) + ' is ' + str(result))"
   ]
  },
  {
   "cell_type": "markdown",
   "metadata": {},
   "source": [
    "## Phương pháp Newton-Raphson"
   ]
  },
  {
   "cell_type": "code",
   "execution_count": 24,
   "metadata": {},
   "outputs": [
    {
     "name": "stdout",
     "output_type": "stream",
     "text": [
      "numGuesses = 5\n",
      "Square root of 54.0 is about 7.348469483546109\n"
     ]
    }
   ],
   "source": [
    "epsilon = 0.01\n",
    "y = 54.0\n",
    "guess = y/2.0\n",
    "numGuesses = 0\n",
    "\n",
    "while abs(guess*guess - y) >= epsilon:\n",
    "    numGuesses += 1\n",
    "    guess = guess - (((guess**2) - y)/(2*guess))\n",
    "print('numGuesses = ' + str(numGuesses))\n",
    "print('Square root of ' + str(y) + ' is about ' + str(guess))"
   ]
  },
  {
   "cell_type": "markdown",
   "metadata": {},
   "source": [
    "### Bài tập\n",
    "\n",
    "Add some code to the implementation of Newton-Raphson that keeps track of the number of iterations used to find the root. Use that code as part of a program that compares the efficiency of Newton-Raphson and bisection search. (You should discover that Newton-Raphson is more efficient.)"
   ]
  },
  {
   "cell_type": "code",
   "execution_count": null,
   "metadata": {},
   "outputs": [],
   "source": []
  },
  {
   "cell_type": "markdown",
   "metadata": {},
   "source": [
    "- - -\n",
    "[Trước: Chuỗi, rẽ nhành và lặp](http://nbviewer.jupyter.org/github/manleviet/introCSusingPython/blob/master/2%20-%20Chu%E1%BB%97i%2C%20r%E1%BA%BD%20nh%C3%A1nh%20v%C3%A0%20l%E1%BA%B7p.ipynb) | \n",
    "[Mục lục](http://nbviewer.jupyter.org/github/manleviet/introCSusingPython/blob/master/index.ipynb) | \n",
    "[Tiếp: Hàm]()"
   ]
  }
 ],
 "metadata": {
  "kernelspec": {
   "display_name": "Python 3",
   "language": "python",
   "name": "python3"
  },
  "language_info": {
   "codemirror_mode": {
    "name": "ipython",
    "version": 3
   },
   "file_extension": ".py",
   "mimetype": "text/x-python",
   "name": "python",
   "nbconvert_exporter": "python",
   "pygments_lexer": "ipython3",
   "version": "3.6.4"
  }
 },
 "nbformat": 4,
 "nbformat_minor": 2
}
