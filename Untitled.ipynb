{
 "cells": [
  {
   "cell_type": "markdown",
   "metadata": {},
   "source": [
    "Python for Data Analysis, 2nd edition\n",
    "\n",
    "https://github.com/wesm/pydata-book\n",
    "\n",
    "Quy trình xử lý số liệu:\n",
    "1. Interacting with the outside world\n",
    "Reading and writing with a variety of file formats and databases\n",
    "2. Preparation\n",
    "Cleaning, munging, combining, normalizing, reshaping, slicing and dicing, and transforming data for analysis\n",
    "3. Transformation\n",
    "Applying mathematical and statistical operations to groups of data sets to derive new data sets. For example, aggregating a large table by group variables\n",
    "4. Modeling and computation\n",
    "Connecting your data to statistical models, machine learning algorithms, or other computational tools\n",
    "5. Presentation\n",
    "Creating interactive or static graphical visualization or textual summaries"
   ]
  },
  {
   "cell_type": "markdown",
   "metadata": {},
   "source": [
    "usa.gov data from bit.ly\n",
    "\n"
   ]
  }
 ],
 "metadata": {
  "kernelspec": {
   "display_name": "Python 3",
   "language": "python",
   "name": "python3"
  },
  "language_info": {
   "codemirror_mode": {
    "name": "ipython",
    "version": 3
   },
   "file_extension": ".py",
   "mimetype": "text/x-python",
   "name": "python",
   "nbconvert_exporter": "python",
   "pygments_lexer": "ipython3",
   "version": "3.6.4"
  }
 },
 "nbformat": 4,
 "nbformat_minor": 2
}
