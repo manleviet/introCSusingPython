{
 "cells": [
  {
   "cell_type": "markdown",
   "metadata": {},
   "source": [
    "Mã nguồn các bài giảng môn học Cơ sở lập trình\n",
    "===\n",
    "Jupyter Notebook này cung cấp mã nguồn các bài giảng cho môn học [Cơ sở lập trình](http://www.manleviet.info/giang-day/co-so-lap-trinh-qtkd).\n",
    "\n",
    "Các mã nguồn này được lấy từ Khoá học miễn phí [Introduction to Computer Science and Programming in Python](https://ocw.mit.edu/courses/electrical-engineering-and-computer-science/6-0001-introduction-to-computer-science-and-programming-in-python-fall-2016/index.htm) của MIT Open Coursewave."
   ]
  },
  {
   "cell_type": "markdown",
   "metadata": {},
   "source": [
    "Mục lục\n",
    "---\n",
    "1. [Cơ bản về Lập trình và Ngôn ngữ lập trình Python](http://nbviewer.jupyter.org/github/manleviet/introCSusingPython/blob/master/1%20-%20C%C6%A1%20b%E1%BA%A3n%20v%E1%BB%81%20L%E1%BA%ADp%20tr%C3%ACnh%20v%C3%A0%20Ng%C3%B4n%20ng%E1%BB%AF%20l%E1%BA%ADp%20tr%C3%ACnh%20Python.ipynb)\n",
    "2. [Chuỗi, rẽ nhành và lặp](http://nbviewer.jupyter.org/github/manleviet/introCSusingPython/blob/master/2%20-%20Chu%E1%BB%97i%2C%20r%E1%BA%BD%20nh%C3%A1nh%20v%C3%A0%20l%E1%BA%B7p.ipynb)\n",
    "3. [Các phương pháp cơ bản giải quyết bài toán trên máy tính](http://nbviewer.jupyter.org/github/manleviet/introCSusingPython/blob/master/3%20-%20C%C3%A1c%20ph%C6%B0%C6%A1ng%20ph%C3%A1p%20c%C6%A1%20b%E1%BA%A3n%20gi%E1%BA%A3i%20quy%E1%BA%BFt%20b%C3%A0i%20to%C3%A1n%20tr%C3%AAn%20m%C3%A1y%20t%C3%ADnh.ipynb)\n",
    "4. [Hàm](http://nbviewer.jupyter.org/github/manleviet/introCSusingPython/blob/master/4%20-%20H%C3%A0m.ipynb)\n",
    "5. [Tuple và List](http://nbviewer.jupyter.org/github/manleviet/introCSusingPython/blob/master/5%20-%20Tuple%2C%20List.ipynb)\n",
    "6. [Dictionary](http://nbviewer.jupyter.org/github/manleviet/introCSusingPython/blob/master/6%20-%20Dictionary.ipynb)\n",
    "7. [Kiểm thử chương trình](http://nbviewer.jupyter.org/github/manleviet/introCSusingPython/blob/master/7%20-%20Ki%E1%BB%83m%20th%E1%BB%AD%20ch%C6%B0%C6%A1ng%20tr%C3%ACnh.ipynb)\n",
    "8. [Biệt lệ và xác nhận](http://nbviewer.jupyter.org/github/manleviet/introCSusingPython/blob/master/8%20-%20Bi%E1%BB%87t%20l%E1%BB%87%20v%C3%A0%20x%C3%A1c%20nh%E1%BA%ADn.ipynb)\n",
    "9. Lập trình Hướng đối tượng\n",
    "10. Tìm kiếm và sắp xếp\n",
    "11. Trực quan hoá dữ liệu"
   ]
  }
 ],
 "metadata": {
  "kernelspec": {
   "display_name": "Python 3",
   "language": "python",
   "name": "python3"
  },
  "language_info": {
   "codemirror_mode": {
    "name": "ipython",
    "version": 3
   },
   "file_extension": ".py",
   "mimetype": "text/x-python",
   "name": "python",
   "nbconvert_exporter": "python",
   "pygments_lexer": "ipython3",
   "version": "3.6.4"
  }
 },
 "nbformat": 4,
 "nbformat_minor": 1
}
