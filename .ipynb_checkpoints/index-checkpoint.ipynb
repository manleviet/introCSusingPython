{
 "cells": [
  {
   "cell_type": "markdown",
   "metadata": {},
   "source": [
    "Mã nguồn các bài giảng môn học Cơ sở lập trình\n",
    "===\n",
    "Jupyter Notebook này cung cấp mã nguồn các bài giảng cho môn học [Cơ sở lập trình](http://www.manleviet.info/giang-day/co-so-lap-trinh-qtkd).\n",
    "\n",
    "Các mã nguồn này được lấy từ Khoá học miễn phí [Introduction to Computer Science and Programming in Python](https://ocw.mit.edu/courses/electrical-engineering-and-computer-science/6-0001-introduction-to-computer-science-and-programming-in-python-fall-2016/index.htm) của MIT Open Coursewave."
   ]
  },
  {
   "cell_type": "markdown",
   "metadata": {},
   "source": [
    "Mục lục\n",
    "---\n",
    "1. Cơ bản về Lập trình và Ngôn ngữ lập trình Python\n",
    "2. Chuỗi, rẽ nhành và lặp\n",
    "3. Các phương pháp cơ bản giải quyết bài toán trên máy tính\n",
    "4. Hàm"
   ]
  }
 ],
 "metadata": {
  "kernelspec": {
   "display_name": "Python 3",
   "language": "python",
   "name": "python3"
  },
  "language_info": {
   "codemirror_mode": {
    "name": "ipython",
    "version": 3
   },
   "file_extension": ".py",
   "mimetype": "text/x-python",
   "name": "python",
   "nbconvert_exporter": "python",
   "pygments_lexer": "ipython3",
   "version": "3.6.4"
  }
 },
 "nbformat": 4,
 "nbformat_minor": 1
}
